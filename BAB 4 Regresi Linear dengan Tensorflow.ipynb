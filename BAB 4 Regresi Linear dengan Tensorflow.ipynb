{
 "cells": [
  {
   "cell_type": "code",
   "execution_count": 25,
   "id": "initial_id",
   "metadata": {
    "collapsed": true,
    "ExecuteTime": {
     "end_time": "2023-08-18T02:20:28.018023479Z",
     "start_time": "2023-08-18T02:20:27.952056866Z"
    }
   },
   "outputs": [],
   "source": [
    "# Import Library\n",
    "from __future__ import absolute_import, division, print_function\n",
    "import tensorflow as tf\n",
    "import numpy as np"
   ]
  },
  {
   "cell_type": "code",
   "execution_count": 26,
   "outputs": [],
   "source": [
    "# Parameter-paramater yang digunakan\n",
    "kecepatan_pembelajaran = 0.01\n",
    "langkah_pelatihan = 5000\n",
    "tampilkan_langkah = 50"
   ],
   "metadata": {
    "collapsed": false,
    "ExecuteTime": {
     "end_time": "2023-08-18T02:20:28.018330341Z",
     "start_time": "2023-08-18T02:20:27.998836780Z"
    }
   },
   "id": "bd8bcbbabb7b60cb"
  },
  {
   "cell_type": "code",
   "execution_count": 27,
   "outputs": [],
   "source": [
    "# Data latih yang digunakan\n",
    "X = np.array([3.3, 4.4, 5.5, 6.71, 6.93, 4.168, 9.779, 6.182, 7.59, 2.167, 7.042, 10.791, 5.313, 7.997, 5.654, 9.27, 3.1])\n",
    "Y = np.array([1.7, 2.76, 2.09, 3.19, 1.694, 1.573, 3.366, 2.596, 2.53, 1.221, 2.827, 3.465, 1.65, 2.904, 2.42, 2.94, 1.3])"
   ],
   "metadata": {
    "collapsed": false,
    "ExecuteTime": {
     "end_time": "2023-08-18T02:20:28.018529318Z",
     "start_time": "2023-08-18T02:20:27.999188788Z"
    }
   },
   "id": "cf6919ccf133cbac"
  },
  {
   "cell_type": "code",
   "execution_count": 28,
   "outputs": [],
   "source": [
    "# Bobot dan Bias, diinisialisasi secara acak\n",
    "rng = np.random\n",
    "W = tf.Variable(rng.randn(), name=\"weight\")\n",
    "b = tf.Variable(rng.randn(), name=\"bias\")\n",
    "\n",
    "# Regresi linier (Wx + b)\n",
    "def Regresi_Linier(x):\n",
    "    return W * x + b\n",
    "\n",
    "# Mean square error (MSE)\n",
    "def mean_square(y_pred, y_true):\n",
    "    return tf.reduce_mean(tf.square(y_pred - y_true))\n",
    "\n",
    "# Mean Absolute Percentage Error (MAPE)\n",
    "def mean_absolute_percentage_error(y_true, y_pred):\n",
    "    y_true, y_pred = np.array(y_true), np.array(y_pred)\n",
    "    return np.mean(np.abs((y_true - y_pred) / y_true)) * 100\n",
    "\n",
    "# Pengoptimalan Penurunan Gradien Stochastic\n",
    "optimizer = tf.optimizers.SGD(kecepatan_pembelajaran)"
   ],
   "metadata": {
    "collapsed": false,
    "ExecuteTime": {
     "end_time": "2023-08-18T02:20:28.018674912Z",
     "start_time": "2023-08-18T02:20:27.999391697Z"
    }
   },
   "id": "b47a2019b09ad17e"
  },
  {
   "cell_type": "code",
   "execution_count": 29,
   "outputs": [],
   "source": [
    "# Fungsi untuk proses pengoptimalan\n",
    "\n",
    "from math import sqrt\n",
    "def run_optimization():\n",
    "    # Bungkus komputasi di dalam GradientTape untuk\n",
    "    # diferensiasi otomatis.\n",
    "    with tf.GradientTape() as g:\n",
    "        pred = Regresi_Linier(X)\n",
    "        mse = mean_square(pred, Y)\n",
    "        rmse = sqrt(mse)\n",
    "        MAPE = mean_absolute_percentage_error(Y, pred)\n",
    "        Persentase_keberhasilan = 100 - MAPE\n",
    "    \n",
    "    # Hitung gradien\n",
    "    gradients = g.gradient(mse, [W, b])\n",
    "    \n",
    "    # Perbarui W dan b menggunakan gradien berikut.\n",
    "    optimizer.apply_gradients(zip(gradients, [W, b]))"
   ],
   "metadata": {
    "collapsed": false,
    "ExecuteTime": {
     "end_time": "2023-08-18T02:20:28.018816688Z",
     "start_time": "2023-08-18T02:20:27.999573907Z"
    }
   },
   "id": "7b94f302a60fbcaf"
  },
  {
   "cell_type": "code",
   "execution_count": 30,
   "outputs": [
    {
     "name": "stdout",
     "output_type": "stream",
     "text": [
      "langkah: 50, mse: 0.162761, rmse: 0.403437, MAPE: 13.339012, Persentase_keberhasilan: 86.660988, W: 0.289463, b: 0.530621\n",
      "langkah: 100, mse: 0.160840, rmse: 0.401049, MAPE: 13.279112, Persentase_keberhasilan: 86.720888, W: 0.285134, b: 0.561310\n",
      "langkah: 150, mse: 0.159333, rmse: 0.399166, MAPE: 13.226066, Persentase_keberhasilan: 86.773934, W: 0.281300, b: 0.588488\n",
      "langkah: 200, mse: 0.158152, rmse: 0.397683, MAPE: 13.179092, Persentase_keberhasilan: 86.820908, W: 0.277905, b: 0.612555\n",
      "langkah: 250, mse: 0.157225, rmse: 0.396517, MAPE: 13.220113, Persentase_keberhasilan: 86.779887, W: 0.274899, b: 0.633868\n",
      "langkah: 300, mse: 0.156499, rmse: 0.395599, MAPE: 13.309546, Persentase_keberhasilan: 86.690454, W: 0.272237, b: 0.652743\n",
      "langkah: 350, mse: 0.155929, rmse: 0.394878, MAPE: 13.388743, Persentase_keberhasilan: 86.611257, W: 0.269879, b: 0.669457\n",
      "langkah: 400, mse: 0.155482, rmse: 0.394312, MAPE: 13.458881, Persentase_keberhasilan: 86.541119, W: 0.267791, b: 0.684259\n",
      "langkah: 450, mse: 0.155131, rmse: 0.393867, MAPE: 13.520989, Persentase_keberhasilan: 86.479011, W: 0.265943, b: 0.697366\n",
      "langkah: 500, mse: 0.154857, rmse: 0.393518, MAPE: 13.575988, Persentase_keberhasilan: 86.424012, W: 0.264305, b: 0.708974\n",
      "langkah: 550, mse: 0.154641, rmse: 0.393244, MAPE: 13.624699, Persentase_keberhasilan: 86.375301, W: 0.262855, b: 0.719254\n",
      "langkah: 600, mse: 0.154472, rmse: 0.393029, MAPE: 13.667830, Persentase_keberhasilan: 86.332170, W: 0.261571, b: 0.728357\n",
      "langkah: 650, mse: 0.154339, rmse: 0.392861, MAPE: 13.706029, Persentase_keberhasilan: 86.293971, W: 0.260434, b: 0.736418\n",
      "langkah: 700, mse: 0.154235, rmse: 0.392728, MAPE: 13.739856, Persentase_keberhasilan: 86.260144, W: 0.259427, b: 0.743557\n",
      "langkah: 750, mse: 0.154154, rmse: 0.392624, MAPE: 13.769812, Persentase_keberhasilan: 86.230188, W: 0.258536, b: 0.749879\n",
      "langkah: 800, mse: 0.154090, rmse: 0.392543, MAPE: 13.796339, Persentase_keberhasilan: 86.203661, W: 0.257746, b: 0.755478\n",
      "langkah: 850, mse: 0.154040, rmse: 0.392479, MAPE: 13.819831, Persentase_keberhasilan: 86.180169, W: 0.257047, b: 0.760435\n",
      "langkah: 900, mse: 0.154001, rmse: 0.392429, MAPE: 13.840636, Persentase_keberhasilan: 86.159364, W: 0.256427, b: 0.764826\n",
      "langkah: 950, mse: 0.153970, rmse: 0.392390, MAPE: 13.859056, Persentase_keberhasilan: 86.140944, W: 0.255879, b: 0.768714\n",
      "langkah: 1000, mse: 0.153946, rmse: 0.392359, MAPE: 13.875373, Persentase_keberhasilan: 86.124627, W: 0.255393, b: 0.772157\n",
      "langkah: 1050, mse: 0.153927, rmse: 0.392335, MAPE: 13.889820, Persentase_keberhasilan: 86.110180, W: 0.254963, b: 0.775206\n",
      "langkah: 1100, mse: 0.153912, rmse: 0.392316, MAPE: 13.902613, Persentase_keberhasilan: 86.097387, W: 0.254582, b: 0.777906\n",
      "langkah: 1150, mse: 0.153900, rmse: 0.392301, MAPE: 13.913945, Persentase_keberhasilan: 86.086055, W: 0.254245, b: 0.780298\n",
      "langkah: 1200, mse: 0.153891, rmse: 0.392289, MAPE: 13.923980, Persentase_keberhasilan: 86.076020, W: 0.253946, b: 0.782415\n",
      "langkah: 1250, mse: 0.153884, rmse: 0.392280, MAPE: 13.932866, Persentase_keberhasilan: 86.067134, W: 0.253682, b: 0.784290\n",
      "langkah: 1300, mse: 0.153878, rmse: 0.392273, MAPE: 13.940734, Persentase_keberhasilan: 86.059266, W: 0.253448, b: 0.785951\n",
      "langkah: 1350, mse: 0.153874, rmse: 0.392267, MAPE: 13.947701, Persentase_keberhasilan: 86.052299, W: 0.253240, b: 0.787421\n",
      "langkah: 1400, mse: 0.153870, rmse: 0.392263, MAPE: 13.953871, Persentase_keberhasilan: 86.046129, W: 0.253056, b: 0.788724\n",
      "langkah: 1450, mse: 0.153868, rmse: 0.392260, MAPE: 13.959337, Persentase_keberhasilan: 86.040663, W: 0.252894, b: 0.789877\n",
      "langkah: 1500, mse: 0.153865, rmse: 0.392257, MAPE: 13.964176, Persentase_keberhasilan: 86.035824, W: 0.252750, b: 0.790898\n",
      "langkah: 1550, mse: 0.153864, rmse: 0.392255, MAPE: 13.968463, Persentase_keberhasilan: 86.031537, W: 0.252622, b: 0.791803\n",
      "langkah: 1600, mse: 0.153862, rmse: 0.392253, MAPE: 13.972257, Persentase_keberhasilan: 86.027743, W: 0.252509, b: 0.792604\n",
      "langkah: 1650, mse: 0.153861, rmse: 0.392252, MAPE: 13.975618, Persentase_keberhasilan: 86.024382, W: 0.252409, b: 0.793313\n",
      "langkah: 1700, mse: 0.153861, rmse: 0.392251, MAPE: 13.978594, Persentase_keberhasilan: 86.021406, W: 0.252320, b: 0.793941\n",
      "langkah: 1750, mse: 0.153860, rmse: 0.392250, MAPE: 13.981228, Persentase_keberhasilan: 86.018772, W: 0.252242, b: 0.794497\n",
      "langkah: 1800, mse: 0.153859, rmse: 0.392249, MAPE: 13.983561, Persentase_keberhasilan: 86.016439, W: 0.252173, b: 0.794990\n",
      "langkah: 1850, mse: 0.153859, rmse: 0.392249, MAPE: 13.985630, Persentase_keberhasilan: 86.014370, W: 0.252111, b: 0.795426\n",
      "langkah: 1900, mse: 0.153859, rmse: 0.392248, MAPE: 13.987458, Persentase_keberhasilan: 86.012542, W: 0.252057, b: 0.795812\n",
      "langkah: 1950, mse: 0.153859, rmse: 0.392248, MAPE: 13.989079, Persentase_keberhasilan: 86.010921, W: 0.252008, b: 0.796154\n",
      "langkah: 2000, mse: 0.153858, rmse: 0.392248, MAPE: 13.990515, Persentase_keberhasilan: 86.009485, W: 0.251966, b: 0.796457\n",
      "langkah: 2050, mse: 0.153858, rmse: 0.392248, MAPE: 13.991787, Persentase_keberhasilan: 86.008213, W: 0.251928, b: 0.796725\n",
      "langkah: 2100, mse: 0.153858, rmse: 0.392248, MAPE: 13.992914, Persentase_keberhasilan: 86.007086, W: 0.251894, b: 0.796963\n",
      "langkah: 2150, mse: 0.153858, rmse: 0.392247, MAPE: 13.993908, Persentase_keberhasilan: 86.006092, W: 0.251865, b: 0.797173\n",
      "langkah: 2200, mse: 0.153858, rmse: 0.392247, MAPE: 13.994792, Persentase_keberhasilan: 86.005208, W: 0.251838, b: 0.797360\n",
      "langkah: 2250, mse: 0.153858, rmse: 0.392247, MAPE: 13.995571, Persentase_keberhasilan: 86.004429, W: 0.251815, b: 0.797525\n",
      "langkah: 2300, mse: 0.153858, rmse: 0.392247, MAPE: 13.996264, Persentase_keberhasilan: 86.003736, W: 0.251794, b: 0.797671\n",
      "langkah: 2350, mse: 0.153858, rmse: 0.392247, MAPE: 13.996879, Persentase_keberhasilan: 86.003121, W: 0.251776, b: 0.797800\n",
      "langkah: 2400, mse: 0.153858, rmse: 0.392247, MAPE: 13.997421, Persentase_keberhasilan: 86.002579, W: 0.251760, b: 0.797914\n",
      "langkah: 2450, mse: 0.153858, rmse: 0.392247, MAPE: 13.997900, Persentase_keberhasilan: 86.002100, W: 0.251746, b: 0.798016\n",
      "langkah: 2500, mse: 0.153858, rmse: 0.392247, MAPE: 13.998326, Persentase_keberhasilan: 86.001674, W: 0.251733, b: 0.798106\n",
      "langkah: 2550, mse: 0.153858, rmse: 0.392247, MAPE: 13.998704, Persentase_keberhasilan: 86.001296, W: 0.251722, b: 0.798185\n",
      "langkah: 2600, mse: 0.153858, rmse: 0.392247, MAPE: 13.999038, Persentase_keberhasilan: 86.000962, W: 0.251712, b: 0.798256\n",
      "langkah: 2650, mse: 0.153858, rmse: 0.392247, MAPE: 13.999333, Persentase_keberhasilan: 86.000667, W: 0.251703, b: 0.798318\n",
      "langkah: 2700, mse: 0.153858, rmse: 0.392247, MAPE: 13.999596, Persentase_keberhasilan: 86.000404, W: 0.251695, b: 0.798373\n",
      "langkah: 2750, mse: 0.153858, rmse: 0.392247, MAPE: 13.999827, Persentase_keberhasilan: 86.000173, W: 0.251688, b: 0.798422\n",
      "langkah: 2800, mse: 0.153858, rmse: 0.392247, MAPE: 14.000032, Persentase_keberhasilan: 85.999968, W: 0.251682, b: 0.798466\n",
      "langkah: 2850, mse: 0.153858, rmse: 0.392247, MAPE: 14.000215, Persentase_keberhasilan: 85.999785, W: 0.251677, b: 0.798504\n",
      "langkah: 2900, mse: 0.153858, rmse: 0.392247, MAPE: 14.000376, Persentase_keberhasilan: 85.999624, W: 0.251672, b: 0.798538\n",
      "langkah: 2950, mse: 0.153858, rmse: 0.392247, MAPE: 14.000518, Persentase_keberhasilan: 85.999482, W: 0.251668, b: 0.798568\n",
      "langkah: 3000, mse: 0.153858, rmse: 0.392247, MAPE: 14.000645, Persentase_keberhasilan: 85.999355, W: 0.251664, b: 0.798595\n",
      "langkah: 3050, mse: 0.153858, rmse: 0.392247, MAPE: 14.000757, Persentase_keberhasilan: 85.999243, W: 0.251661, b: 0.798619\n",
      "langkah: 3100, mse: 0.153858, rmse: 0.392247, MAPE: 14.000854, Persentase_keberhasilan: 85.999146, W: 0.251658, b: 0.798639\n",
      "langkah: 3150, mse: 0.153858, rmse: 0.392247, MAPE: 14.000943, Persentase_keberhasilan: 85.999057, W: 0.251655, b: 0.798658\n",
      "langkah: 3200, mse: 0.153858, rmse: 0.392247, MAPE: 14.001019, Persentase_keberhasilan: 85.998981, W: 0.251653, b: 0.798674\n",
      "langkah: 3250, mse: 0.153858, rmse: 0.392247, MAPE: 14.001091, Persentase_keberhasilan: 85.998909, W: 0.251651, b: 0.798689\n",
      "langkah: 3300, mse: 0.153858, rmse: 0.392247, MAPE: 14.001149, Persentase_keberhasilan: 85.998851, W: 0.251649, b: 0.798701\n",
      "langkah: 3350, mse: 0.153858, rmse: 0.392247, MAPE: 14.001204, Persentase_keberhasilan: 85.998796, W: 0.251647, b: 0.798713\n",
      "langkah: 3400, mse: 0.153858, rmse: 0.392247, MAPE: 14.001252, Persentase_keberhasilan: 85.998748, W: 0.251646, b: 0.798723\n",
      "langkah: 3450, mse: 0.153858, rmse: 0.392247, MAPE: 14.001294, Persentase_keberhasilan: 85.998706, W: 0.251645, b: 0.798732\n",
      "langkah: 3500, mse: 0.153858, rmse: 0.392247, MAPE: 14.001332, Persentase_keberhasilan: 85.998668, W: 0.251644, b: 0.798740\n",
      "langkah: 3550, mse: 0.153858, rmse: 0.392247, MAPE: 14.001361, Persentase_keberhasilan: 85.998639, W: 0.251643, b: 0.798746\n",
      "langkah: 3600, mse: 0.153858, rmse: 0.392247, MAPE: 14.001391, Persentase_keberhasilan: 85.998609, W: 0.251642, b: 0.798752\n",
      "langkah: 3650, mse: 0.153858, rmse: 0.392247, MAPE: 14.001419, Persentase_keberhasilan: 85.998581, W: 0.251641, b: 0.798758\n",
      "langkah: 3700, mse: 0.153858, rmse: 0.392247, MAPE: 14.001448, Persentase_keberhasilan: 85.998552, W: 0.251640, b: 0.798764\n",
      "langkah: 3750, mse: 0.153858, rmse: 0.392247, MAPE: 14.001462, Persentase_keberhasilan: 85.998538, W: 0.251640, b: 0.798768\n",
      "langkah: 3800, mse: 0.153858, rmse: 0.392247, MAPE: 14.001476, Persentase_keberhasilan: 85.998524, W: 0.251639, b: 0.798770\n",
      "langkah: 3850, mse: 0.153858, rmse: 0.392247, MAPE: 14.001491, Persentase_keberhasilan: 85.998509, W: 0.251639, b: 0.798773\n",
      "langkah: 3900, mse: 0.153858, rmse: 0.392247, MAPE: 14.001505, Persentase_keberhasilan: 85.998495, W: 0.251638, b: 0.798776\n",
      "langkah: 3950, mse: 0.153858, rmse: 0.392247, MAPE: 14.001520, Persentase_keberhasilan: 85.998480, W: 0.251638, b: 0.798779\n",
      "langkah: 4000, mse: 0.153858, rmse: 0.392247, MAPE: 14.001532, Persentase_keberhasilan: 85.998468, W: 0.251638, b: 0.798782\n",
      "langkah: 4050, mse: 0.153858, rmse: 0.392247, MAPE: 14.001548, Persentase_keberhasilan: 85.998452, W: 0.251637, b: 0.798785\n",
      "langkah: 4100, mse: 0.153858, rmse: 0.392247, MAPE: 14.001561, Persentase_keberhasilan: 85.998439, W: 0.251637, b: 0.798788\n",
      "langkah: 4150, mse: 0.153858, rmse: 0.392247, MAPE: 14.001566, Persentase_keberhasilan: 85.998434, W: 0.251637, b: 0.798789\n",
      "langkah: 4200, mse: 0.153858, rmse: 0.392247, MAPE: 14.001566, Persentase_keberhasilan: 85.998434, W: 0.251637, b: 0.798789\n",
      "langkah: 4250, mse: 0.153858, rmse: 0.392247, MAPE: 14.001566, Persentase_keberhasilan: 85.998434, W: 0.251637, b: 0.798789\n",
      "langkah: 4300, mse: 0.153858, rmse: 0.392247, MAPE: 14.001566, Persentase_keberhasilan: 85.998434, W: 0.251637, b: 0.798789\n",
      "langkah: 4350, mse: 0.153858, rmse: 0.392247, MAPE: 14.001566, Persentase_keberhasilan: 85.998434, W: 0.251637, b: 0.798789\n",
      "langkah: 4400, mse: 0.153858, rmse: 0.392247, MAPE: 14.001566, Persentase_keberhasilan: 85.998434, W: 0.251637, b: 0.798789\n",
      "langkah: 4450, mse: 0.153858, rmse: 0.392247, MAPE: 14.001566, Persentase_keberhasilan: 85.998434, W: 0.251637, b: 0.798789\n",
      "langkah: 4500, mse: 0.153858, rmse: 0.392247, MAPE: 14.001566, Persentase_keberhasilan: 85.998434, W: 0.251637, b: 0.798789\n",
      "langkah: 4550, mse: 0.153858, rmse: 0.392247, MAPE: 14.001566, Persentase_keberhasilan: 85.998434, W: 0.251637, b: 0.798789\n",
      "langkah: 4600, mse: 0.153858, rmse: 0.392247, MAPE: 14.001566, Persentase_keberhasilan: 85.998434, W: 0.251637, b: 0.798789\n",
      "langkah: 4650, mse: 0.153858, rmse: 0.392247, MAPE: 14.001566, Persentase_keberhasilan: 85.998434, W: 0.251637, b: 0.798789\n",
      "langkah: 4700, mse: 0.153858, rmse: 0.392247, MAPE: 14.001566, Persentase_keberhasilan: 85.998434, W: 0.251637, b: 0.798789\n",
      "langkah: 4750, mse: 0.153858, rmse: 0.392247, MAPE: 14.001566, Persentase_keberhasilan: 85.998434, W: 0.251637, b: 0.798789\n",
      "langkah: 4800, mse: 0.153858, rmse: 0.392247, MAPE: 14.001566, Persentase_keberhasilan: 85.998434, W: 0.251637, b: 0.798789\n",
      "langkah: 4850, mse: 0.153858, rmse: 0.392247, MAPE: 14.001566, Persentase_keberhasilan: 85.998434, W: 0.251637, b: 0.798789\n",
      "langkah: 4900, mse: 0.153858, rmse: 0.392247, MAPE: 14.001566, Persentase_keberhasilan: 85.998434, W: 0.251637, b: 0.798789\n",
      "langkah: 4950, mse: 0.153858, rmse: 0.392247, MAPE: 14.001566, Persentase_keberhasilan: 85.998434, W: 0.251637, b: 0.798789\n",
      "langkah: 5000, mse: 0.153858, rmse: 0.392247, MAPE: 14.001566, Persentase_keberhasilan: 85.998434, W: 0.251637, b: 0.798789\n"
     ]
    }
   ],
   "source": [
    "# Jalankan pelatihan untuk sejumlah langkah tertentu:\n",
    "for langkah in range(1, langkah_pelatihan + 1):\n",
    "    # Jalankan pengoptimalan untuk meperbarui nilai W dan b.\n",
    "    run_optimization()\n",
    "    \n",
    "    if langkah % tampilkan_langkah == 0:\n",
    "        pred = Regresi_Linier(X)\n",
    "        mse = mean_square(pred, Y)\n",
    "        rmse = sqrt(mse)\n",
    "        MAPE = mean_absolute_percentage_error(Y, pred)\n",
    "        Persentase_keberhasilan = 100 - MAPE\n",
    "        \n",
    "        print(\"langkah: %i, mse: %f, rmse: %f, MAPE: %f, Persentase_keberhasilan: %f, W: %f, b: %f\" % (langkah, mse, rmse, MAPE, Persentase_keberhasilan, W.numpy(), b.numpy()))"
   ],
   "metadata": {
    "collapsed": false,
    "ExecuteTime": {
     "end_time": "2023-08-18T02:20:43.703610651Z",
     "start_time": "2023-08-18T02:20:27.999753121Z"
    }
   },
   "id": "46457cd9222c1121"
  },
  {
   "cell_type": "code",
   "execution_count": 32,
   "outputs": [
    {
     "data": {
      "text/plain": "<Figure size 640x480 with 1 Axes>",
      "image/png": "[encoded data removed]"
     },
     "metadata": {},
     "output_type": "display_data"
    }
   ],
   "source": [
    "# Tampilan grafis\n",
    "\n",
    "import matplotlib.pyplot as plt\n",
    "plt.plot(X, Y, 'ro', label='Data Asli')\n",
    "plt.plot(X, np.array(W * X + b), label='Hasil Prediksi Regresi Linear')\n",
    "plt.legend()\n",
    "plt.show()"
   ],
   "metadata": {
    "collapsed": false,
    "ExecuteTime": {
     "end_time": "2023-08-18T02:23:22.137346409Z",
     "start_time": "2023-08-18T02:23:21.892874828Z"
    }
   },
   "id": "66d6e6df85f2d8be"
  },
  {
   "cell_type": "code",
   "execution_count": null,
   "outputs": [],
   "source": [],
   "metadata": {
    "collapsed": false
   },
   "id": "8e91a8e061023d78"
  }
 ],
 "metadata": {
  "kernelspec": {
   "display_name": "Python 3",
   "language": "python",
   "name": "python3"
  },
  "language_info": {
   "codemirror_mode": {
    "name": "ipython",
    "version": 2
   },
   "file_extension": ".py",
   "mimetype": "text/x-python",
   "name": "python",
   "nbconvert_exporter": "python",
   "pygments_lexer": "ipython2",
   "version": "2.7.6"
  }
 },
 "nbformat": 4,
 "nbformat_minor": 5
}
