{
 "cells": [
  {
   "cell_type": "code",
   "execution_count": 1,
   "outputs": [
    {
     "name": "stderr",
     "output_type": "stream",
     "text": [
      "2023-06-11 23:28:02.281802: I tensorflow/core/platform/cpu_feature_guard.cc:182] This TensorFlow binary is optimized to use available CPU instructions in performance-critical operations.\n",
      "To enable the following instructions: SSE4.1 SSE4.2 AVX AVX2 FMA, in other operations, rebuild TensorFlow with the appropriate compiler flags.\n"
     ]
    },
    {
     "name": "stdout",
     "output_type": "stream",
     "text": [
      "WARNING:tensorflow:From /home/kangsdhi/anaconda3/envs/pemrograman-deep-learning-dengan-python/lib/python3.10/site-packages/tensorflow/python/compat/v2_compat.py:107: disable_resource_variables (from tensorflow.python.ops.variable_scope) is deprecated and will be removed in a future version.\n",
      "Instructions for updating:\n",
      "non-resource variables are not supported in the long term\n"
     ]
    }
   ],
   "source": [
    "import tensorflow as tf\n",
    "tf.compat.v1.disable_v2_behavior()"
   ],
   "metadata": {
    "collapsed": false,
    "ExecuteTime": {
     "end_time": "2023-06-11T16:28:03.715386424Z",
     "start_time": "2023-06-11T16:28:02.182600476Z"
    }
   }
  },
  {
   "cell_type": "code",
   "execution_count": 2,
   "outputs": [],
   "source": [
    "X = tf.compat.v1.placeholder(dtype=tf.float32, shape=(4,2))\n",
    "Y = tf.compat.v1.placeholder(dtype=tf.float32, shape=(4,1))"
   ],
   "metadata": {
    "collapsed": false,
    "ExecuteTime": {
     "end_time": "2023-06-11T16:28:03.721588720Z",
     "start_time": "2023-06-11T16:28:03.718420410Z"
    }
   }
  },
  {
   "cell_type": "code",
   "execution_count": 3,
   "outputs": [],
   "source": [
    "INPUT_XOR = [[0,0],[0,1],[1,0],[1,1]]\n",
    "OUTPUT_XOR = [[0],[1],[1],[0]]"
   ],
   "metadata": {
    "collapsed": false,
    "ExecuteTime": {
     "end_time": "2023-06-11T16:28:03.726976243Z",
     "start_time": "2023-06-11T16:28:03.722989562Z"
    }
   }
  },
  {
   "cell_type": "code",
   "execution_count": 4,
   "outputs": [],
   "source": [
    "learning_rate = 0.01\n",
    "epochs = 10000"
   ],
   "metadata": {
    "collapsed": false,
    "ExecuteTime": {
     "end_time": "2023-06-11T16:28:03.732607827Z",
     "start_time": "2023-06-11T16:28:03.728494697Z"
    }
   }
  },
  {
   "cell_type": "code",
   "execution_count": 5,
   "outputs": [],
   "source": [
    "# Hidden Layer\n",
    "with tf.compat.v1.variable_scope('hidden'):\n",
    "    h_w = tf.Variable(tf.compat.v1.truncated_normal([2,2]), name='weights')\n",
    "    h_b = tf.Variable(tf.compat.v1.truncated_normal([4,2]), name='biases')\n",
    "    h = tf.nn.relu(tf.matmul(X, h_w) + h_b)"
   ],
   "metadata": {
    "collapsed": false,
    "ExecuteTime": {
     "end_time": "2023-06-11T16:28:03.781063841Z",
     "start_time": "2023-06-11T16:28:03.772620701Z"
    }
   }
  },
  {
   "cell_type": "code",
   "execution_count": 6,
   "outputs": [],
   "source": [
    "# Output Layer\n",
    "with tf.compat.v1.variable_scope('output'):\n",
    "    o_w = tf.Variable(tf.compat.v1.truncated_normal([2,1]), name='weights')\n",
    "    o_b = tf.Variable(tf.compat.v1.truncated_normal([4,1]), name='biases')\n",
    "    Y_estimation = tf.nn.sigmoid(tf.matmul(h, o_w) + o_b)"
   ],
   "metadata": {
    "collapsed": false,
    "ExecuteTime": {
     "end_time": "2023-06-11T16:28:03.816921683Z",
     "start_time": "2023-06-11T16:28:03.772925194Z"
    }
   }
  },
  {
   "cell_type": "code",
   "execution_count": 7,
   "outputs": [],
   "source": [
    "with tf.compat.v1.variable_scope('cost'):\n",
    "    cost = tf.reduce_mean(tf.compat.v1.squared_difference(Y_estimation, Y))"
   ],
   "metadata": {
    "collapsed": false,
    "ExecuteTime": {
     "end_time": "2023-06-11T16:28:03.817234255Z",
     "start_time": "2023-06-11T16:28:03.816415705Z"
    }
   }
  },
  {
   "cell_type": "code",
   "execution_count": 8,
   "outputs": [],
   "source": [
    "with tf.compat.v1.variable_scope('train'):\n",
    "    train = tf.compat.v1.train.AdamOptimizer(learning_rate).minimize(cost)"
   ],
   "metadata": {
    "collapsed": false,
    "ExecuteTime": {
     "end_time": "2023-06-11T16:28:03.878886487Z",
     "start_time": "2023-06-11T16:28:03.817115140Z"
    }
   }
  },
  {
   "cell_type": "code",
   "execution_count": 9,
   "outputs": [
    {
     "name": "stderr",
     "output_type": "stream",
     "text": [
      "2023-06-11 23:28:03.883131: I tensorflow/core/common_runtime/process_util.cc:146] Creating new thread pool with default inter op setting: 2. Tune using inter_op_parallelism_threads for best performance.\n",
      "2023-06-11 23:28:03.885662: I tensorflow/compiler/mlir/mlir_graph_optimization_pass.cc:353] MLIR V1 optimization pass is not enabled\n"
     ]
    },
    {
     "name": "stdout",
     "output_type": "stream",
     "text": [
      "0.3356719\n",
      "0.0016335004\n",
      "0.00044487958\n",
      "0.00018985849\n",
      "9.561284e-05\n",
      "5.2134397e-05\n",
      "2.9671022e-05\n",
      "1.7305014e-05\n",
      "1.0240408e-05\n",
      "6.1136934e-06\n",
      "Training Completed!\n",
      "[[0.00321069]\n",
      " [0.99969304]\n",
      " [0.9997292 ]\n",
      " [0.00205215]]\n"
     ]
    }
   ],
   "source": [
    "with tf.compat.v1.Session() as session :\n",
    "    session.run(tf.compat.v1.global_variables_initializer())\n",
    "\n",
    "    log_count_frac = epochs/10\n",
    "    for epoch in range(epochs):\n",
    "        session.run(train, feed_dict={X:INPUT_XOR, Y:OUTPUT_XOR})\n",
    "\n",
    "        if epoch % log_count_frac == 0:\n",
    "            cost_result = session.run(cost, feed_dict={X:INPUT_XOR, Y:OUTPUT_XOR})\n",
    "            print(cost_result)\n",
    "\n",
    "    print(\"Training Completed!\")\n",
    "    Y_test = session.run(Y_estimation, feed_dict={X:INPUT_XOR})\n",
    "    print(Y_test)"
   ],
   "metadata": {
    "collapsed": false,
    "ExecuteTime": {
     "end_time": "2023-06-11T16:28:05.692870884Z",
     "start_time": "2023-06-11T16:28:03.882983973Z"
    }
   }
  },
  {
   "cell_type": "code",
   "execution_count": 10,
   "outputs": [
    {
     "data": {
      "text/plain": "<Figure size 640x480 with 1 Axes>",
      "image/png": "[encoded data removed]"
     },
     "metadata": {},
     "output_type": "display_data"
    }
   ],
   "source": [
    "import matplotlib.pyplot as plt\n",
    "plt.plot(OUTPUT_XOR, 'bo', label='Target', linewidth=2, markersize=12)\n",
    "plt.plot(Y_test, 'r+', label='Tensorflow Output', linewidth=2, markersize=12)\n",
    "plt.legend(loc='upper right')\n",
    "plt.show()"
   ],
   "metadata": {
    "collapsed": false,
    "ExecuteTime": {
     "end_time": "2023-06-11T16:28:06.165369370Z",
     "start_time": "2023-06-11T16:28:05.695775002Z"
    }
   }
  },
  {
   "cell_type": "code",
   "execution_count": 10,
   "outputs": [],
   "source": [],
   "metadata": {
    "collapsed": false,
    "ExecuteTime": {
     "end_time": "2023-06-11T16:28:06.167759426Z",
     "start_time": "2023-06-11T16:28:06.165986983Z"
    }
   }
  }
 ],
 "metadata": {
  "kernelspec": {
   "display_name": "Python 3",
   "language": "python",
   "name": "python3"
  },
  "language_info": {
   "codemirror_mode": {
    "name": "ipython",
    "version": 2
   },
   "file_extension": ".py",
   "mimetype": "text/x-python",
   "name": "python",
   "nbconvert_exporter": "python",
   "pygments_lexer": "ipython2",
   "version": "2.7.6"
  }
 },
 "nbformat": 4,
 "nbformat_minor": 0
}
